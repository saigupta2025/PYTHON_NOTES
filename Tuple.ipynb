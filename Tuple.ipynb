{
  "nbformat": 4,
  "nbformat_minor": 0,
  "metadata": {
    "colab": {
      "provenance": [],
      "authorship_tag": "ABX9TyPJNrZvGrWq1jC/J0dKZ78i",
      "include_colab_link": true
    },
    "kernelspec": {
      "name": "python3",
      "display_name": "Python 3"
    },
    "language_info": {
      "name": "python"
    }
  },
  "cells": [
    {
      "cell_type": "markdown",
      "metadata": {
        "id": "view-in-github",
        "colab_type": "text"
      },
      "source": [
        "<a href=\"https://colab.research.google.com/github/saigupta2025/PYTHON_NOTES/blob/main/Tuple.ipynb\" target=\"_parent\"><img src=\"https://colab.research.google.com/assets/colab-badge.svg\" alt=\"Open In Colab\"/></a>"
      ]
    },
    {
      "cell_type": "markdown",
      "source": [
        "# Properties ::\n",
        "1. tuple exactly same as list except it is Immutable;\n",
        "2. Hence tuple is a read only version of list;\n",
        "3.Ordered :: Tuples maintain the order of elements.Elements can be accessed by index (supports +ve & -ve );\n",
        "4.Duplicates are allowed;\n",
        "5.Can Contain Different Data Types i.e., Heterogeneous;\n",
        "6.Can Be Nested;\n",
        "7.Hashable :: Tuples can be used as keys in dictionaries (if all elements are also hashable);\n",
        "8.represented by normal parenthesis and comma seperator;\n",
        "9.parenthesis is optional but recommended to use;\n",
        "10. empty tuple :: ()"
      ],
      "metadata": {
        "id": "l8xXo_MLOcTn"
      }
    },
    {
      "cell_type": "code",
      "execution_count": null,
      "metadata": {
        "id": "ONSGUj8cH0Dx",
        "colab": {
          "base_uri": "https://localhost:8080/"
        },
        "outputId": "798e5204-7b4a-4f55-fc5e-980f963cf6c6"
      },
      "outputs": [
        {
          "output_type": "stream",
          "name": "stdout",
          "text": [
            "(10, 20, 30)\n",
            "<class 'tuple'>\n"
          ]
        }
      ],
      "source": [
        "t=10,20,30\n",
        "print(t)\n",
        "print(type(t))"
      ]
    },
    {
      "cell_type": "markdown",
      "source": [
        "we have to take special care about single valued tuple. compulsary the value should ends with comma. otherwise it is not treated as tuple."
      ],
      "metadata": {
        "id": "PhfiTce5RyAg"
      }
    },
    {
      "cell_type": "code",
      "source": [
        "t=(10)\n",
        "print(type(t))\n",
        "\n",
        "tp=(10,)\n",
        "print(tp)\n",
        "print(type(tp))"
      ],
      "metadata": {
        "colab": {
          "base_uri": "https://localhost:8080/"
        },
        "id": "7T9yPtGNSLFN",
        "outputId": "2fea8343-16a0-4a92-94b0-18b94140a982"
      },
      "execution_count": null,
      "outputs": [
        {
          "output_type": "stream",
          "name": "stdout",
          "text": [
            "<class 'int'>\n",
            "(10,)\n",
            "<class 'tuple'>\n"
          ]
        }
      ]
    },
    {
      "cell_type": "code",
      "source": [
        "t=()\n",
        "t=10,20,30\n",
        "t=10\n",
        "t=10,\n",
        "t=(10)\n",
        "t=(10,)\n",
        "t=(10,20,30,\"sai\")"
      ],
      "metadata": {
        "colab": {
          "base_uri": "https://localhost:8080/"
        },
        "id": "lFDbysIySWso",
        "outputId": "65786b38-c10e-4ce0-b03d-9439541727a7"
      },
      "execution_count": null,
      "outputs": [
        {
          "output_type": "stream",
          "name": "stdout",
          "text": [
            "<class 'tuple'>\n"
          ]
        }
      ]
    },
    {
      "cell_type": "code",
      "source": [
        "# tuple() function\n",
        "lst=[10,20,30, \"sai\", \"ram\"]\n",
        "tp= tuple(lst)\n",
        "print(tp)\n",
        "print(type(tp))\n",
        "\n",
        "t=tuple(range(10,20,2))\n",
        "print(t)\n",
        "l= list(range(10,20,2))\n",
        "print(l)\n",
        "\n",
        "tple= (10,20,60,40,\"sri\")\n",
        "lst= list(tple)\n",
        "print(lst)"
      ],
      "metadata": {
        "colab": {
          "base_uri": "https://localhost:8080/"
        },
        "id": "glD4-HgFS_Ec",
        "outputId": "62090083-f546-4477-a574-eb05da770c25"
      },
      "execution_count": null,
      "outputs": [
        {
          "output_type": "stream",
          "name": "stdout",
          "text": [
            "(10, 20, 30, 'sai', 'ram')\n",
            "<class 'tuple'>\n",
            "(10, 12, 14, 16, 18)\n",
            "[10, 12, 14, 16, 18]\n",
            "[10, 20, 60, 40, 'sri']\n"
          ]
        }
      ]
    },
    {
      "cell_type": "code",
      "source": [
        "# Accessing elements by 1) Index    2)slice operator\n",
        "#mathematical operators on tuple are 1) concatenation    2) multiplication operator\n",
        "# important functions of tuple :: len(), count(), index(), sorted(), max(), min(), cmp()\n",
        "t=(10,20,30,40,50)\n",
        "print(len(t))\n",
        "print(t.count(10))\n",
        "print(t.index(10))\n",
        "print(sorted(t))\n",
        "print(max(t))\n",
        "print(min(t))"
      ],
      "metadata": {
        "id": "wO_qm4oSUYud",
        "colab": {
          "base_uri": "https://localhost:8080/"
        },
        "outputId": "7c3b5194-4add-47d7-985b-5ca4a5182d15"
      },
      "execution_count": 1,
      "outputs": [
        {
          "output_type": "stream",
          "name": "stdout",
          "text": [
            "5\n",
            "1\n",
            "0\n",
            "[10, 20, 30, 40, 50]\n",
            "50\n",
            "10\n"
          ]
        }
      ]
    },
    {
      "cell_type": "markdown",
      "source": [
        "# TUPLE PACKING & UNPACKING::\n"
      ],
      "metadata": {
        "id": "G0Qog5T1kqqV"
      }
    },
    {
      "cell_type": "code",
      "source": [
        "#packing\n",
        "a=10\n",
        "b=20\n",
        "c=50\n",
        "t=a,b,c\n",
        "print(t)"
      ],
      "metadata": {
        "colab": {
          "base_uri": "https://localhost:8080/"
        },
        "id": "adZTcXtkjMtZ",
        "outputId": "342e7809-a10b-480f-8e59-aadb3ea41f05"
      },
      "execution_count": 2,
      "outputs": [
        {
          "output_type": "stream",
          "name": "stdout",
          "text": [
            "(10, 20, 50)\n"
          ]
        }
      ]
    },
    {
      "cell_type": "code",
      "source": [
        "#unpacking\n",
        "t=10,20,30,40,50,60\n",
        "a,b,c,d,e,f=t\n",
        "print(\"a=\",a, \"b=\",b, \"c=\",c, \"d=\",d, \"e=\",e, \"f=\",f)"
      ],
      "metadata": {
        "colab": {
          "base_uri": "https://localhost:8080/"
        },
        "id": "tPIGMz3AlL_o",
        "outputId": "26a8da58-f5b9-4148-a3df-c863f585b583"
      },
      "execution_count": 3,
      "outputs": [
        {
          "output_type": "stream",
          "name": "stdout",
          "text": [
            "a= 10 b= 20 c= 30 d= 40 e= 50 f= 60\n"
          ]
        }
      ]
    },
    {
      "cell_type": "markdown",
      "source": [
        "# Tuple comprehension not possible in python"
      ],
      "metadata": {
        "id": "rW4OoZ_ilr99"
      }
    },
    {
      "cell_type": "markdown",
      "source": [
        "# Learn the differences between LIST & TUPLE"
      ],
      "metadata": {
        "id": "IA8uTZrzmKZp"
      }
    }
  ]
}