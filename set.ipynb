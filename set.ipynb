{
  "nbformat": 4,
  "nbformat_minor": 0,
  "metadata": {
    "colab": {
      "provenance": [],
      "authorship_tag": "ABX9TyNWFm08LNVzima86U6Nymrk",
      "include_colab_link": true
    },
    "kernelspec": {
      "name": "python3",
      "display_name": "Python 3"
    },
    "language_info": {
      "name": "python"
    }
  },
  "cells": [
    {
      "cell_type": "markdown",
      "metadata": {
        "id": "view-in-github",
        "colab_type": "text"
      },
      "source": [
        "<a href=\"https://colab.research.google.com/github/saigupta2025/PYTHON_NOTES/blob/main/set.ipynb\" target=\"_parent\"><img src=\"https://colab.research.google.com/assets/colab-badge.svg\" alt=\"Open In Colab\"/></a>"
      ]
    },
    {
      "cell_type": "markdown",
      "source": [
        "# SET PROPERTIES::\n",
        "1.A Set in Python is a collection of unique(No dupliocates) elements which are unordered and mutable;\n",
        "2.slcing, indexing and insertion order not allowed;\n",
        "3.heterogeous;\n",
        "4.curly braces with comma separation;\n",
        "5.union, intersection, difference etl., operations are allowed;"
      ],
      "metadata": {
        "id": "3Kr0C9Z5nah1"
      }
    },
    {
      "cell_type": "code",
      "source": [
        "s={}  # set function\n",
        "\n",
        "print(type(s))"
      ],
      "metadata": {
        "colab": {
          "base_uri": "https://localhost:8080/"
        },
        "id": "dShzt02Rf9ow",
        "outputId": "eca896b0-4053-462d-a7b9-021652397fb6"
      },
      "execution_count": 19,
      "outputs": [
        {
          "output_type": "stream",
          "name": "stdout",
          "text": [
            "<class 'dict'>\n"
          ]
        }
      ]
    },
    {
      "cell_type": "code",
      "source": [
        "s1={1,3,3,3,3,3,4,5,7}\n",
        "print(s1)"
      ],
      "metadata": {
        "id": "l4lhPlMJgVvV",
        "colab": {
          "base_uri": "https://localhost:8080/"
        },
        "outputId": "4ffe93c2-4140-4ecb-bf47-d7275518d68f"
      },
      "execution_count": 24,
      "outputs": [
        {
          "output_type": "stream",
          "name": "stdout",
          "text": [
            "{1, 3, 4, 5, 7}\n"
          ]
        }
      ]
    },
    {
      "cell_type": "markdown",
      "source": [
        "Important functios:::\n",
        "\n",
        "1. add(x)  # add an element to the set;\n",
        "2.update(x,y,range(5)) # used to assign multiple items to the set\n",
        "3.copy()\n",
        "4.pop()\n",
        "5.remove()  # removes a particular element\n",
        "6.discard()  # similar to remove func. but it won't through an error if the mentioned element not exists;\n",
        "7. clear()\n",
        "\n",
        "\n",
        "\n",
        "Mathematical operations:::\n",
        "\n",
        "\n",
        "1. union()   # returns all the elements present in both sets\n",
        "2.intersection()   # returns common elements;\n",
        "3. difference()     # returns the elements present in X but not in Y;\n",
        "4. symmetric_difference()  # returns the elements present in either X or Y but not common;\n",
        "\n",
        "\n",
        "\n",
        "\n",
        "\n",
        "set comprehension is possible;\n",
        "\n",
        "s= {x**x for x in range(5)}\n",
        "\n"
      ],
      "metadata": {
        "id": "DbN3Iaq4gXg_"
      }
    },
    {
      "cell_type": "markdown",
      "source": [
        "\n",
        "\n",
        "> Programmes ::\n",
        "\n",
        "1.Find second largest number in a list?\n",
        "\n",
        "\n",
        "2.Find duplicates in a list?\n",
        "\n",
        "\n",
        "3.Remove duplicates from a list without using set()?\n",
        "\n",
        "\n",
        "4.Find common elements in two lists?\n",
        "\n",
        "\n",
        "5.Set from string (remove duplicates in string)?\n"
      ],
      "metadata": {
        "id": "oncHtJu0i3bE"
      }
    },
    {
      "cell_type": "code",
      "source": [
        "# Unzip list of tuples into individual lists\n",
        "lst = [(1, 'a'), (2, 'b'), (3, 'c')]\n",
        "nums, chars = zip(*lst)\n",
        "print(list(nums))   # [1, 2, 3]\n",
        "print(list(chars))  # ['a', 'b', 'c']"
      ],
      "metadata": {
        "id": "FtC-ZgL9kL5g",
        "colab": {
          "base_uri": "https://localhost:8080/"
        },
        "outputId": "711b0cc5-7c56-4bb2-a53e-5c545f8be5cd"
      },
      "execution_count": 20,
      "outputs": [
        {
          "output_type": "stream",
          "name": "stdout",
          "text": [
            "[1, 2, 3]\n",
            "['a', 'b', 'c']\n"
          ]
        }
      ]
    },
    {
      "cell_type": "markdown",
      "source": [],
      "metadata": {
        "id": "beFBu879izWg"
      }
    }
  ]
}