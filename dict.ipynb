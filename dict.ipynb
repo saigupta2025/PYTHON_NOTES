{
  "nbformat": 4,
  "nbformat_minor": 0,
  "metadata": {
    "colab": {
      "provenance": [],
      "authorship_tag": "ABX9TyP+/l8rGX/hqqjm+jLnYS9x",
      "include_colab_link": true
    },
    "kernelspec": {
      "name": "python3",
      "display_name": "Python 3"
    },
    "language_info": {
      "name": "python"
    }
  },
  "cells": [
    {
      "cell_type": "markdown",
      "metadata": {
        "id": "view-in-github",
        "colab_type": "text"
      },
      "source": [
        "<a href=\"https://colab.research.google.com/github/saigupta2025/PYTHON_NOTES/blob/main/dict.ipynb\" target=\"_parent\"><img src=\"https://colab.research.google.com/assets/colab-badge.svg\" alt=\"Open In Colab\"/></a>"
      ]
    },
    {
      "cell_type": "markdown",
      "source": [
        "**DICTIONARY**::\n",
        "1. Key & value pair;\n",
        "2. key is always unique and immutable but values can be duplicated;\n",
        "3. Hetrogenous (both key & value) nature;\n",
        "4. Insertion orer is not preserved (so indexing & slicing not applicable );\n",
        "\n",
        "Is insertion order preserved in Python dictionaries?\n",
        "✅ Yes — in modern Python (3.7 and above):\n",
        "Python preserves insertion order in dictionaries starting from Python 3.7 (officially guaranteed in 3.7+, implemented in 3.6).\n",
        "\n",
        "That means: the keys/values will come out in the same order you inserted them.\n",
        "\n",
        "\n",
        "❌ No, you still cannot use indexing or slicing directly on a dictionary — even in Python 3.7+.\n",
        "\n",
        "Before Python 3.6:\n",
        "Dictionaries did not guarantee insertion order.\n",
        "\n",
        "The internal structure was optimized for speed, not order.\n",
        "\n",
        "\n",
        "\n",
        "\n",
        "5. dict is mutable;\n",
        "6. In C++ , JAVA dict are knowns as **Map**. where as in PERL and RUBY, is is known as **Hash**.\n",
        "7. STARDEAD SYNTAX:: {key:value}"
      ],
      "metadata": {
        "id": "jjL1eL1Y7ygG"
      }
    },
    {
      "cell_type": "markdown",
      "source": [
        "Empty dict:\n",
        "\n",
        "d= {}  or d= dict()\n"
      ],
      "metadata": {
        "id": "IHYqEYhx97EE"
      }
    },
    {
      "cell_type": "code",
      "source": [
        "d={}      #d[key]= value\n",
        "d[100]=\"sai\"\n",
        "d[101]=\"ram\"\n",
        "d[102]=\"raghu\"\n",
        "d[103]=\"sita\"\n",
        "print(d)\n",
        "d[100]= \"hanuman_sai_gupta\"   # updating the data like\n",
        "print(d)"
      ],
      "metadata": {
        "colab": {
          "base_uri": "https://localhost:8080/"
        },
        "id": "LAUtbsN--bv3",
        "outputId": "37112c98-4e4f-4697-ef2a-79568b49d15b"
      },
      "execution_count": 37,
      "outputs": [
        {
          "output_type": "stream",
          "name": "stdout",
          "text": [
            "{100: 'sai', 101: 'ram', 102: 'raghu', 103: 'sita'}\n",
            "{100: 'hanuman_sai_gupta', 101: 'ram', 102: 'raghu', 103: 'sita'}\n"
          ]
        }
      ]
    },
    {
      "cell_type": "code",
      "source": [
        "# Accessing data from dict ------>> using keys with suare brackets;\n",
        "\n",
        "d={100: 'sai', 101: 'ram', 102: 'raghu', 103: 'sita'}\n",
        "print(d[100])\n",
        "\n",
        "\n",
        "student = {\n",
        "    \"name\": \"Alice\",\n",
        "    \"age\": 22,\n",
        "    \"course\": \"Data Science\"\n",
        "}\n",
        "print(student[\"name\"])\n",
        "print(student[\"age\"])\n",
        "print(student[\"course\"])\n",
        "\n",
        "# 2. Approach ::  Access using get() method\n",
        "\n",
        "print(student.get(\"age\"))        #output: 22\n",
        "print(student.get(\"grade\"))       # Output: None (if key doesn't exist)\n",
        "print(student.get(\"grade\", \"N/A\")) # Output: N/A (default value)\n",
        "\n",
        "\n",
        "#3. Access all keys, values, or key-value pairs\n",
        "\n",
        "print(student.keys())    # dict_keys(['name', 'age', 'course'])\n",
        "print(student.values())  # dict_values(['Alice', 22, 'Data Science'])\n",
        "print(student.items())   # dict_items([('name', 'Alice'), ('age', 22), ('course', 'Data Science')])\n",
        "\n",
        "\n",
        "\n",
        "#4. Loop through dictionary\n",
        "for key in student:\n",
        "    print(key, \"->\", student[key])\n",
        "\n",
        "# OR\n",
        "\n",
        "for key, value in student.items():\n",
        "    print(key, \":\", value)\n",
        "\n",
        "for value in student.values():\n",
        "    print(value)"
      ],
      "metadata": {
        "id": "b27x-H0LActw"
      },
      "execution_count": null,
      "outputs": []
    },
    {
      "cell_type": "code",
      "source": [
        "# delecting the data approaches  1. single data  2. whole dict   3. clear()\n",
        "student = {\n",
        "    \"name\": \"Alice\",\n",
        "    \"age\": 22,\n",
        "    \"course\": \"Data Science\"\n",
        "}\n",
        "\n",
        "\n",
        "del student[\"age\"]\n",
        "print(student)\n",
        "\n",
        "student.clear()\n",
        "print(student)\n",
        "\n",
        "\n",
        "# del student    # name 'student' is not defined\n",
        "# print(student)"
      ],
      "metadata": {
        "colab": {
          "base_uri": "https://localhost:8080/"
        },
        "id": "-ErFS1dHHTGx",
        "outputId": "db4c7888-8d41-4e6a-f666-d20e9a55ba53"
      },
      "execution_count": 41,
      "outputs": [
        {
          "output_type": "stream",
          "name": "stdout",
          "text": [
            "{'name': 'Alice', 'course': 'Data Science'}\n",
            "{}\n"
          ]
        }
      ]
    },
    {
      "cell_type": "code",
      "source": [
        "student = {\n",
        "    \"name\": \"Alice\",\n",
        "    \"age\": 22,\n",
        "    \"course\": \"Data Science\"\n",
        "}\n",
        "\n",
        "for value in student.values():     # here values() & keys()  are methods like ---->> dict.values(), dict.keys()\n",
        "    print(value)\n",
        "\n",
        "print(student.values())\n",
        "\n",
        "#Note: dict_values is a special view object, not a list — but you can convert it to a list if needed:\n",
        "\n",
        "value_list = list(student.values())\n",
        "print(value_list)  # ['Alice', 22, 'Data Science']\n"
      ],
      "metadata": {
        "id": "4Hqkl0xRDkAJ"
      },
      "execution_count": null,
      "outputs": []
    },
    {
      "cell_type": "markdown",
      "source": [
        "Important functions::\n",
        "1. dict()\n",
        "2. len() ---> returns the number of items in the dict;\n",
        "3. clear ()\n",
        "4. get () --->> d.get(key)---->> Associated with keys\n",
        "5. pop()---->> d.pop(key)---->> it removes the entity associated with key and returns the corresponding value;\n",
        "6. popitem()\n",
        "7. key()\n",
        "8. values()\n",
        "9. items()\n",
        "10. copy()\n",
        "11. setdefault(k,v)"
      ],
      "metadata": {
        "id": "wKWZK79bI75o"
      }
    },
    {
      "cell_type": "code",
      "source": [
        "student = {\n",
        "    \"name\": \"Alice\",\n",
        "    \"age\": 22,\n",
        "    \"course\": \"Data Science\"\n",
        "}\n",
        "print(len(student))\n",
        "print(student.clear())\n",
        "print(student)\n",
        "\n",
        "student = {\n",
        "    \"name\": \"Alice\",\n",
        "    \"age\": 22,\n",
        "    \"course\": \"Data Science\"\n",
        "}\n",
        "print(student.get(\"age\"))\n",
        "\n",
        "\n",
        "print(student.pop(\"age\"))\n",
        "\n",
        "print(student)\n",
        "\n",
        "print(student.popitem())\n",
        "\n",
        "print(student)\n",
        "\n",
        "\n",
        "\n",
        "student = {\n",
        "    \"name\": \"Alice\",\n",
        "    \"age\": 22,\n",
        "    \"course\": \"Data Science\"\n",
        "}\n",
        "\n",
        "print(student.keys())\n",
        "print(student.values())\n",
        "print(student.items())"
      ],
      "metadata": {
        "colab": {
          "base_uri": "https://localhost:8080/"
        },
        "id": "iedq1-z-H8yo",
        "outputId": "8d9be8c1-510c-4d60-d04e-25c7054b5c7d"
      },
      "execution_count": 54,
      "outputs": [
        {
          "output_type": "stream",
          "name": "stdout",
          "text": [
            "3\n",
            "None\n",
            "{}\n",
            "22\n",
            "22\n",
            "{'name': 'Alice', 'course': 'Data Science'}\n",
            "('course', 'Data Science')\n",
            "{'name': 'Alice'}\n",
            "dict_keys(['name', 'age', 'course'])\n",
            "dict_values(['Alice', 22, 'Data Science'])\n",
            "dict_items([('name', 'Alice'), ('age', 22), ('course', 'Data Science')])\n",
            "{'name': 'Alice', 'age': 22, 'course': 'Data Science'}\n"
          ]
        }
      ]
    },
    {
      "cell_type": "markdown",
      "source": [
        "QUESTION OF THE DAY :::\n",
        "\n",
        "COPY & shallow copy ???"
      ],
      "metadata": {
        "id": "01kYl02cN5BG"
      }
    }
  ]
}