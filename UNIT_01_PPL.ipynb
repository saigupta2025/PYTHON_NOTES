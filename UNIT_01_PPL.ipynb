{
  "nbformat": 4,
  "nbformat_minor": 0,
  "metadata": {
    "colab": {
      "provenance": [],
      "authorship_tag": "ABX9TyMiBjll3cD4F7en94uqYoSW",
      "include_colab_link": true
    },
    "kernelspec": {
      "name": "python3",
      "display_name": "Python 3"
    },
    "language_info": {
      "name": "python"
    }
  },
  "cells": [
    {
      "cell_type": "markdown",
      "metadata": {
        "id": "view-in-github",
        "colab_type": "text"
      },
      "source": [
        "<a href=\"https://colab.research.google.com/github/saigupta2025/PYTHON_NOTES/blob/main/UNIT_01_PPL.ipynb\" target=\"_parent\"><img src=\"https://colab.research.google.com/assets/colab-badge.svg\" alt=\"Open In Colab\"/></a>"
      ]
    },
    {
      "cell_type": "code",
      "execution_count": 54,
      "metadata": {
        "colab": {
          "base_uri": "https://localhost:8080/"
        },
        "id": "Add_QdcJMGVK",
        "outputId": "38a8369c-2cf8-425b-af75-d45cf4f09d0e"
      },
      "outputs": [
        {
          "output_type": "stream",
          "name": "stdout",
          "text": [
            "forward direction\n",
            "l e a r n   p y t h o n   i s   v e r y   e a s y "
          ]
        }
      ],
      "source": [
        "s= \"learn python is very easy\"\n",
        "print(\"forward direction\")\n",
        "for x in s[::]:\n",
        "  print(x, end =\" \")"
      ]
    },
    {
      "cell_type": "code",
      "source": [
        "s= \"learnpythonisveryeasy\"\n",
        "print(\"backward direction\")\n",
        "for x in s[::-1]:\n",
        "  print(x, end =\" \")"
      ],
      "metadata": {
        "colab": {
          "base_uri": "https://localhost:8080/"
        },
        "id": "WOBX2sCrRR23",
        "outputId": "18c17f37-98cb-40f5-8023-d161c8d83316"
      },
      "execution_count": 53,
      "outputs": [
        {
          "output_type": "stream",
          "name": "stdout",
          "text": [
            "backward direction\n",
            "y s a e y r e v s i n o h t y p n r a e l "
          ]
        }
      ]
    },
    {
      "cell_type": "code",
      "source": [
        "num1 = float(input(\"Enter the first number: \"))\n",
        "num2 = float(input(\"Enter the second number: \"))\n",
        "num3 = float(input(\"Enter the third number: \"))\n",
        "\n",
        "if (num1 >= num2) and (num1 >= num3):\n",
        "    largest = num1\n",
        "elif (num2 >= num1) and (num2 >= num3):\n",
        "    largest = num2\n",
        "else:\n",
        "    largest = num3\n",
        "\n",
        "print(f\"The largest number is: {largest}\")"
      ],
      "metadata": {
        "colab": {
          "base_uri": "https://localhost:8080/"
        },
        "id": "RWUJdGKGTDak",
        "outputId": "30a5e4fc-00d7-4058-a0b3-f1547d7bfb51"
      },
      "execution_count": 40,
      "outputs": [
        {
          "output_type": "stream",
          "name": "stdout",
          "text": [
            "Enter the first number: 5\n",
            "Enter the second number: 6\n",
            "Enter the third number: 7\n",
            "The largest number is: 7.0\n"
          ]
        }
      ]
    },
    {
      "cell_type": "markdown",
      "source": [
        "In Python, the else block is primarily used in conjunction with if statements to provide an alternative code path when the if condition evaluates to False.\n",
        "However, Python also allows the use of else with for and while loops, and try-except blocks. In these cases, the else block's execution is conditional on the behavior of the preceding block:\n",
        "\n",
        "for/while loops:\n",
        "\n",
        "The else block associated with a for or while loop executes only if the loop completes without encountering a break statement."
      ],
      "metadata": {
        "id": "0WBa9wLQVC41"
      }
    },
    {
      "cell_type": "code",
      "source": [
        "# Python program to display all the prime numbers within an interval\n",
        "\n",
        "lower = 0\n",
        "upper = 100\n",
        "\n",
        "print(\"Prime numbers between\", lower, \"and\", upper, \"are:\")\n",
        "\n",
        "for num in range(lower, upper + 1):\n",
        "   # all prime numbers are greater than 1\n",
        "   if num > 1:\n",
        "       for i in range(2, num):\n",
        "           if (num % i) == 0:\n",
        "               break\n",
        "       else:\n",
        "           print(num, end= \" \")"
      ],
      "metadata": {
        "id": "E-X1H5InT5qD",
        "colab": {
          "base_uri": "https://localhost:8080/"
        },
        "outputId": "1db8cb64-75fa-4aba-dc75-3836e4266406"
      },
      "execution_count": 41,
      "outputs": [
        {
          "output_type": "stream",
          "name": "stdout",
          "text": [
            "Prime numbers between 0 and 100 are:\n",
            "2 3 5 7 11 13 17 19 23 29 31 37 41 43 47 53 59 61 67 71 73 79 83 89 97 "
          ]
        }
      ]
    },
    {
      "cell_type": "code",
      "source": [
        "num1 = 5\n",
        "num2 = 10\n",
        "\n",
        "print(f\"Before swap: num1 = {num1}, num2 = {num2}\")\n",
        "\n",
        "num1, num2 = num2, num1\n",
        "\n",
        "print(f\"After swap: num1 = {num1}, num2 = {num2}\")"
      ],
      "metadata": {
        "colab": {
          "base_uri": "https://localhost:8080/"
        },
        "id": "KIE2sdhMVnU_",
        "outputId": "1de9d784-64ad-4c0d-a2e3-b680b401078e"
      },
      "execution_count": 42,
      "outputs": [
        {
          "output_type": "stream",
          "name": "stdout",
          "text": [
            "Before swap: num1 = 5, num2 = 10\n",
            "After swap: num1 = 10, num2 = 5\n"
          ]
        }
      ]
    },
    {
      "cell_type": "code",
      "source": [
        "# Define two complex numbers\n",
        "z1 = 5 + 3j\n",
        "z2 = 2 - 5j\n",
        "\n",
        "# Add the complex numbers\n",
        "sum_complex = z1 + z2\n",
        "\n",
        "# Print the result\n",
        "print(f\"The sum of {z1} and {z2} is: {sum_complex}\")"
      ],
      "metadata": {
        "colab": {
          "base_uri": "https://localhost:8080/"
        },
        "id": "eR-9WfsGVqDv",
        "outputId": "df6e3bc7-fa3c-48e3-ea22-996230944ec8"
      },
      "execution_count": 43,
      "outputs": [
        {
          "output_type": "stream",
          "name": "stdout",
          "text": [
            "The sum of (5+3j) and (2-5j) is: (7-2j)\n"
          ]
        }
      ]
    },
    {
      "cell_type": "code",
      "source": [
        "# Define two complex numbers\n",
        "z1 = 23 + 3j\n",
        "z2 = 1 - 5j\n",
        "\n",
        "# Multiply the complex numbers\n",
        "product_complex = z1 * z2\n",
        "\n",
        "# Print the result\n",
        "print(f\"The product of {z1} and {z2} is: {product_complex}\")"
      ],
      "metadata": {
        "colab": {
          "base_uri": "https://localhost:8080/"
        },
        "id": "hSus3r11VqQO",
        "outputId": "a8f53349-6133-49d0-b0af-e4f4b384499e"
      },
      "execution_count": 44,
      "outputs": [
        {
          "output_type": "stream",
          "name": "stdout",
          "text": [
            "The product of (23+3j) and (1-5j) is: (38-112j)\n"
          ]
        }
      ]
    },
    {
      "cell_type": "code",
      "source": [
        "# Get input from the user\n",
        "num = int(input(\"Enter a number: \"))\n",
        "\n",
        "# Print a header for the table\n",
        "print(f\"Multiplication Table of {num}:\")\n",
        "\n",
        "# Use a for loop to iterate from 1 to 10 (or any desired range)\n",
        "for i in range(1, 11):\n",
        "    # Calculate the product\n",
        "    product = num * i\n",
        "    # Print the multiplication equation\n",
        "    print(f\"{num} x {i} = {product}\")"
      ],
      "metadata": {
        "colab": {
          "base_uri": "https://localhost:8080/"
        },
        "id": "D3CzPJnLWWtU",
        "outputId": "8b33d250-9d6d-4030-c4a7-201cc758f45a"
      },
      "execution_count": 45,
      "outputs": [
        {
          "output_type": "stream",
          "name": "stdout",
          "text": [
            "Enter a number: 5\n",
            "Multiplication Table of 5:\n",
            "5 x 1 = 5\n",
            "5 x 2 = 10\n",
            "5 x 3 = 15\n",
            "5 x 4 = 20\n",
            "5 x 5 = 25\n",
            "5 x 6 = 30\n",
            "5 x 7 = 35\n",
            "5 x 8 = 40\n",
            "5 x 9 = 45\n",
            "5 x 10 = 50\n"
          ]
        }
      ]
    },
    {
      "cell_type": "code",
      "source": [
        "# fibonacci series within a given range\n",
        "start = int(input(\"Enter the starting number: \"))\n",
        "end = int(input(\"Enter the ending number: \"))\n",
        "a, b = 0, 1\n",
        "print(f\"Fibonacci series between {start} and {end}:\")\n",
        "while a <= end:\n",
        "    if a >= start:\n",
        "        print(a, end=\" \")\n",
        "    a, b = b, a + b"
      ],
      "metadata": {
        "colab": {
          "base_uri": "https://localhost:8080/"
        },
        "id": "0Bd5TX4QWbR6",
        "outputId": "4729ccf3-fb16-4932-9123-9c239369b683"
      },
      "execution_count": 46,
      "outputs": [
        {
          "output_type": "stream",
          "name": "stdout",
          "text": [
            "Enter the starting number: 0\n",
            "Enter the ending number: 6\n",
            "Fibonacci series between 0 and 6:\n",
            "0 1 1 2 3 5 "
          ]
        }
      ]
    },
    {
      "cell_type": "code",
      "source": [
        "# fibonacci series 1. n terms   2. Nth term\n",
        "# n = int(input(\"Enter the number of terms: \"))\n",
        "# a,b = 0,1\n",
        "# for x in range(n):\n",
        "#   print(a, end=\" \")\n",
        "#   a,b = b,a+b\n",
        "\n",
        "n= int(input(\"Enter the number \"))\n",
        "a,b = 0,1\n",
        "for i in range(n):\n",
        "  if i == n-1:\n",
        "    print(a, end=\" \")\n",
        "  a,b = b,a+b"
      ],
      "metadata": {
        "colab": {
          "base_uri": "https://localhost:8080/"
        },
        "id": "wJSoPuEcWbco",
        "outputId": "24d2c11f-f153-4d25-b427-26755bb4926b"
      },
      "execution_count": 47,
      "outputs": [
        {
          "output_type": "stream",
          "name": "stdout",
          "text": [
            "Enter the number 6\n",
            "5 "
          ]
        }
      ]
    },
    {
      "cell_type": "code",
      "source": [
        "#Leap Year or not\n",
        "yr= int(input(\"Enter the year: \"))\n",
        "if (yr%4==0 and yr%100!=0) or (yr%400==0):        # or is logical operator\n",
        "  print(f\"{yr} is a leap year\")"
      ],
      "metadata": {
        "colab": {
          "base_uri": "https://localhost:8080/"
        },
        "id": "fBUs6-fxWbgf",
        "outputId": "7f7cf0c0-8b1e-4858-9c99-3d890292d162"
      },
      "execution_count": 48,
      "outputs": [
        {
          "name": "stdout",
          "output_type": "stream",
          "text": [
            "Enter the year: 3333\n"
          ]
        }
      ]
    },
    {
      "cell_type": "code",
      "source": [
        "# formatted string\n",
        "# case 1\n",
        "a=10\n",
        "b=30\n",
        "print(f\"a = {a}, b= {b}\")\n",
        "print(f\"a+b={a+b}\")\n",
        "# case 2\n",
        "text = \"hanuman sai gupta\"\n",
        "\n",
        "print(F\"{text.upper()}\")\n",
        "print(f\"{text.capitalize()}\")\n",
        "print(f\"{text.lower()}\")\n",
        "print(f\"{text.title()}\") # the first letter of each word in the string is capitalized, and all other letters in those words are converted to lowercase.\n",
        "print(f\"{text.swapcase()}\")  #all uppercase letters are converted to lowercase, and\n",
        "                             #all lowercase letters are converted to uppercase.\n",
        "                            #Non-alphabetic characters (like numbers, symbols, and spaces) remain unchanged\n",
        "print(f\"string reverse = {text[::-1]}\")\n",
        "print(F\"I am learning with {text[7:]}\")\n",
        "print(list(text))\n",
        "print(list[text])\n",
        "print(list(enumerate(text)))\n",
        "for x in text:\n",
        "  print(x, end=\" \")\n",
        "print()\n",
        "# case 3\n",
        "a= 1.58999\n",
        "print(f\"a = {a}\")\n",
        "print(f\"a = {a:.2f}\")"
      ],
      "metadata": {
        "colab": {
          "base_uri": "https://localhost:8080/"
        },
        "id": "OxYPtzsrZwy1",
        "outputId": "6c46d61c-bf61-4d66-892a-641eb49bb4b6"
      },
      "execution_count": 49,
      "outputs": [
        {
          "output_type": "stream",
          "name": "stdout",
          "text": [
            "a = 10, b= 30\n",
            "a+b=40\n",
            "HANUMAN SAI GUPTA\n",
            "Hanuman sai gupta\n",
            "hanuman sai gupta\n",
            "Hanuman Sai Gupta\n",
            "HANUMAN SAI GUPTA\n",
            "string reverse = atpug ias namunah\n",
            "I am learning with  sai gupta\n",
            "['h', 'a', 'n', 'u', 'm', 'a', 'n', ' ', 's', 'a', 'i', ' ', 'g', 'u', 'p', 't', 'a']\n",
            "list['hanuman sai gupta']\n",
            "[(0, 'h'), (1, 'a'), (2, 'n'), (3, 'u'), (4, 'm'), (5, 'a'), (6, 'n'), (7, ' '), (8, 's'), (9, 'a'), (10, 'i'), (11, ' '), (12, 'g'), (13, 'u'), (14, 'p'), (15, 't'), (16, 'a')]\n",
            "h a n u m a n   s a i   g u p t a \n",
            "a = 1.58999\n",
            "a = 1.59\n"
          ]
        }
      ]
    },
    {
      "cell_type": "code",
      "source": [
        "# string concantination and multiplication\n",
        "s1 = \"hanuman\"\n",
        "s2=\" saigupta\"\n",
        "print(f\" The concatination of two strings is = {s1+s2}\")\n",
        "print(f\" The multiplication of two strings is = {s2*3}\")\n",
        "print(f\" The multiplication of two strings is = {s1*3}\")\n",
        "print(f\" The multiplication of two strings is = {s1+s2*3}\")\n",
        "print(f\" The multiplication of two strings is = {s2*3+s1}\")"
      ],
      "metadata": {
        "colab": {
          "base_uri": "https://localhost:8080/"
        },
        "id": "kPwdMzvWmhos",
        "outputId": "49fff2dc-1d49-4c16-95b4-b7898202d86b"
      },
      "execution_count": 50,
      "outputs": [
        {
          "output_type": "stream",
          "name": "stdout",
          "text": [
            " The concatination of two strings is = hanuman saigupta\n",
            " The multiplication of two strings is =  saigupta saigupta saigupta\n",
            " The multiplication of two strings is = hanumanhanumanhanuman\n",
            " The multiplication of two strings is = hanuman saigupta saigupta saigupta\n",
            " The multiplication of two strings is =  saigupta saigupta saiguptahanuman\n"
          ]
        }
      ]
    },
    {
      "cell_type": "code",
      "source": [
        "#Discount Problem\n",
        "amount = float (input(\"Enter the amount: \"))\n",
        "if amount > 10000:\n",
        "  Discount = amount*0.3\n",
        "elif amount > 7000 and amount < 10000:\n",
        "  Discount = amount*0.2\n",
        "elif amount > 5000 and amount < 7000:\n",
        "  Discount = amount*0.1\n",
        "else:\n",
        "  Discount = amount*0.05\n",
        "print(f\"Discount = {Discount}\")\n",
        "print(f\"Net amount = {amount-Discount}\")"
      ],
      "metadata": {
        "colab": {
          "base_uri": "https://localhost:8080/"
        },
        "id": "d7K1OKxGiset",
        "outputId": "6bbf5c48-c463-47bf-c919-a85843d6050d"
      },
      "execution_count": 51,
      "outputs": [
        {
          "output_type": "stream",
          "name": "stdout",
          "text": [
            "Enter the amount: 566698\n",
            "Discount = 170009.4\n",
            "Net amount = 396688.6\n"
          ]
        }
      ]
    },
    {
      "cell_type": "code",
      "source": [],
      "metadata": {
        "id": "uS9DVVE5oouO"
      },
      "execution_count": null,
      "outputs": []
    }
  ]
}