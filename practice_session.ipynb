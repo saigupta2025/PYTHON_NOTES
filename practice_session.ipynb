{
  "nbformat": 4,
  "nbformat_minor": 0,
  "metadata": {
    "colab": {
      "provenance": [],
      "authorship_tag": "ABX9TyMBPP25L/m/8fdBeVXIOwyb",
      "include_colab_link": true
    },
    "kernelspec": {
      "name": "python3",
      "display_name": "Python 3"
    },
    "language_info": {
      "name": "python"
    }
  },
  "cells": [
    {
      "cell_type": "markdown",
      "metadata": {
        "id": "view-in-github",
        "colab_type": "text"
      },
      "source": [
        "<a href=\"https://colab.research.google.com/github/saigupta2025/PYTHON_NOTES/blob/main/practice_session.ipynb\" target=\"_parent\"><img src=\"https://colab.research.google.com/assets/colab-badge.svg\" alt=\"Open In Colab\"/></a>"
      ]
    },
    {
      "cell_type": "code",
      "source": [
        "lst = [1, 5, 9, 4, 9, 2, \"sai\", \"gupta\", \"ashish\"]\n",
        "numbers = sorted([item for item in lst if isinstance(item, int)])\n",
        "strings = sorted([item for item in lst if isinstance(item, str)])\n",
        "sorted_lst = numbers + strings\n",
        "print(sorted_lst)"
      ],
      "metadata": {
        "colab": {
          "base_uri": "https://localhost:8080/"
        },
        "id": "LFTQDeupR1Ll",
        "outputId": "f19b0e0e-26c5-4a53-d2c1-4049ee34ee4e"
      },
      "execution_count": 40,
      "outputs": [
        {
          "output_type": "stream",
          "name": "stdout",
          "text": [
            "[1, 2, 4, 5, 9, 9, 'ashish', 'gupta', 'sai']\n"
          ]
        }
      ]
    },
    {
      "cell_type": "code",
      "source": [
        "lst=[2,4,6,2,1,4,99,6,5,6,4,33,65]\n",
        "lst.sort()\n",
        "print(lst)"
      ],
      "metadata": {
        "colab": {
          "base_uri": "https://localhost:8080/"
        },
        "id": "Hnky0mPrSkUn",
        "outputId": "ee60dab5-0571-4f76-cc3c-1080f734a9b7"
      },
      "execution_count": null,
      "outputs": [
        {
          "output_type": "stream",
          "name": "stdout",
          "text": [
            "[1, 2, 2, 4, 4, 4, 5, 6, 6, 6, 33, 65, 99]\n"
          ]
        }
      ]
    },
    {
      "cell_type": "markdown",
      "source": [
        "LIST COMPREHENSION:::\n",
        "\n",
        "syntax:\n",
        "\n",
        "newlist = [expression for item in iterable if condition == True]"
      ],
      "metadata": {
        "id": "sgB011GTc1dY"
      }
    },
    {
      "cell_type": "code",
      "source": [
        "result = [\"even\" if x % 2 == 0 else \"odd\" for x in range(5)]\n",
        "print(result)  # Output: ['even', 'odd', 'even', 'odd', 'even']"
      ],
      "metadata": {
        "id": "so5vmFefXoXm"
      },
      "execution_count": null,
      "outputs": []
    },
    {
      "cell_type": "code",
      "source": [
        "matrix = [[i * j for j in range(1, 4)] for i in range(1, 4)]\n",
        "print(matrix)  # Output: [[1, 2, 3], [2, 4, 6], [3, 6, 9]]"
      ],
      "metadata": {
        "id": "6l2JHaGhXrq4"
      },
      "execution_count": null,
      "outputs": []
    },
    {
      "cell_type": "code",
      "source": [
        "names = [\"alice\", \"bob\", \"charlie\"]\n",
        "capitalized = [name.capitalize() for name in names]\n",
        "print(capitalized)  # Output: ['Alice', 'Bob', 'Charlie']"
      ],
      "metadata": {
        "id": "AoN7ktC3XwqZ"
      },
      "execution_count": null,
      "outputs": []
    },
    {
      "cell_type": "code",
      "source": [
        "from datetime import datetime\n",
        "a=datetime.now()\n",
        "print(a)\n",
        "hour= datetime.now().hour\n",
        "print(hour)\n",
        "if hour<12:\n",
        "    print(\"good morning \\N{grinning face}\")\n",
        "elif hour<16:\n",
        "    print(\"good afternoon \\N{slightly smiling face}\")\n",
        "else:\n",
        "    print('This is a sad face: 😞')"
      ],
      "metadata": {
        "colab": {
          "base_uri": "https://localhost:8080/"
        },
        "id": "HUCgV7UHXwy2",
        "outputId": "6fc177ea-7680-4291-83a0-db6a23e577c5"
      },
      "execution_count": null,
      "outputs": [
        {
          "output_type": "stream",
          "name": "stdout",
          "text": [
            "2025-07-29 04:18:32.780291\n",
            "4\n",
            "good morning 😀\n"
          ]
        }
      ]
    },
    {
      "cell_type": "code",
      "source": [
        "ls= [1,2,3]\n",
        "total=sum(ls)\n",
        "ave= total/len(ls)\n",
        "print(ave)"
      ],
      "metadata": {
        "colab": {
          "base_uri": "https://localhost:8080/"
        },
        "id": "NgfvhrTGZ2w-",
        "outputId": "46f6abb0-2426-43c9-8ee8-42d71733064e"
      },
      "execution_count": null,
      "outputs": [
        {
          "output_type": "stream",
          "name": "stdout",
          "text": [
            "2.0\n"
          ]
        }
      ]
    },
    {
      "cell_type": "code",
      "source": [
        "lst= ['sai', 'gupta', 'shilpa', 'hyd', 'baglore', 'chennai']\n",
        "ls=[]\n",
        "for x in lst:\n",
        "  if \"a\" in x:\n",
        "    ls.append(x)\n",
        "print(ls)"
      ],
      "metadata": {
        "colab": {
          "base_uri": "https://localhost:8080/"
        },
        "id": "Rd4Jx-3QXw1Y",
        "outputId": "8fd7228c-604a-4940-b051-196d40267df2"
      },
      "execution_count": null,
      "outputs": [
        {
          "output_type": "stream",
          "name": "stdout",
          "text": [
            "['sai', 'gupta', 'shilpa', 'baglore', 'chennai']\n"
          ]
        }
      ]
    },
    {
      "cell_type": "code",
      "source": [
        "data= input(\"please enter the string::\")\n",
        "words= data.split()\n",
        "print(\"total words::\", len(words))\n",
        "for word in words:\n",
        "  if \"a\" or \"e\" or \"i\" or \"o\" or \"u\" in word:\n",
        "    print(word)"
      ],
      "metadata": {
        "colab": {
          "base_uri": "https://localhost:8080/"
        },
        "id": "VmDWpD7ogVyC",
        "outputId": "269ad362-ec22-4a97-d02b-a13e8c859a89"
      },
      "execution_count": null,
      "outputs": [
        {
          "output_type": "stream",
          "name": "stdout",
          "text": [
            "please enter the string::sri  vasavi egieerig college tadepalligudem\n",
            "total words:: 5\n",
            "sri\n",
            "vasavi\n",
            "egieerig\n",
            "college\n",
            "tadepalligudem\n"
          ]
        }
      ]
    },
    {
      "cell_type": "code",
      "source": [
        "lst= [234, 455, 4456, 665, 3214, 553]\n",
        "for x in lst:\n",
        "  if x%2 == 0:\n",
        "    print(x)"
      ],
      "metadata": {
        "colab": {
          "base_uri": "https://localhost:8080/"
        },
        "id": "29iZUjqPkx2K",
        "outputId": "8e36eaf1-4e9b-48a0-9fcf-5a446850667d"
      },
      "execution_count": 42,
      "outputs": [
        {
          "output_type": "stream",
          "name": "stdout",
          "text": [
            "234\n",
            "4456\n",
            "3214\n"
          ]
        }
      ]
    },
    {
      "cell_type": "code",
      "source": [
        "a=input(\"enter the string ::\").lower()\n",
        "print(a)"
      ],
      "metadata": {
        "colab": {
          "base_uri": "https://localhost:8080/"
        },
        "id": "IYmNTL8HrA9q",
        "outputId": "044bb775-2b61-4473-baa7-a20300bba8b0"
      },
      "execution_count": 45,
      "outputs": [
        {
          "output_type": "stream",
          "name": "stdout",
          "text": [
            "enter the string ::HanuMAn SAi GupTa\n",
            "hanuman sai gupta\n"
          ]
        }
      ]
    },
    {
      "cell_type": "code",
      "source": [],
      "metadata": {
        "id": "MR0kbOqk0ShC"
      },
      "execution_count": null,
      "outputs": []
    }
  ]
}