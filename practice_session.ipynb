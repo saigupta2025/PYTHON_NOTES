{
  "cells": [
    {
      "cell_type": "markdown",
      "metadata": {
        "id": "view-in-github",
        "colab_type": "text"
      },
      "source": [
        "<a href=\"https://colab.research.google.com/github/saigupta2025/PYTHON_NOTES/blob/main/practice_session.ipynb\" target=\"_parent\"><img src=\"https://colab.research.google.com/assets/colab-badge.svg\" alt=\"Open In Colab\"/></a>"
      ]
    },
    {
      "cell_type": "code",
      "execution_count": null,
      "metadata": {
        "colab": {
          "base_uri": "https://localhost:8080/"
        },
        "id": "LFTQDeupR1Ll",
        "outputId": "24bba259-6efd-4aac-dbd1-35cb3c8c1aa6"
      },
      "outputs": [
        {
          "name": "stdout",
          "output_type": "stream",
          "text": [
            "[1, 2, 4, 5, 9, 9, 'ashish', 'gupta', 'sai']\n"
          ]
        }
      ],
      "source": [
        "lst = [1,5,9,4,9,2,\"sai\",\"gupta\",\"ashish\"]\n",
        "numbers = sorted([item for item in lst if isinstance(item, int)])\n",
        "strings = sorted([item for item in lst if isinstance(item, str)])\n",
        "sorted_lst = numbers + strings\n",
        "print(sorted_lst)\n"
      ]
    },
    {
      "cell_type": "code",
      "execution_count": null,
      "metadata": {
        "colab": {
          "base_uri": "https://localhost:8080/"
        },
        "id": "Hnky0mPrSkUn",
        "outputId": "ee60dab5-0571-4f76-cc3c-1080f734a9b7"
      },
      "outputs": [
        {
          "name": "stdout",
          "output_type": "stream",
          "text": [
            "[1, 2, 2, 4, 4, 4, 5, 6, 6, 6, 33, 65, 99]\n"
          ]
        }
      ],
      "source": [
        "lst=[2,4,6,2,1,4,99,6,5,6,4,33,65]\n",
        "lst.sort()\n",
        "print(lst)"
      ]
    },
    {
      "cell_type": "markdown",
      "metadata": {
        "id": "sgB011GTc1dY"
      },
      "source": [
        "LIST COMPREHENSION:::\n",
        "\n",
        "syntax:\n",
        "\n",
        "newlist = [expression for item in iterable if condition == True]"
      ]
    },
    {
      "cell_type": "code",
      "execution_count": null,
      "metadata": {
        "id": "so5vmFefXoXm"
      },
      "outputs": [],
      "source": [
        "result = [\"even\" if x % 2 == 0 else \"odd\" for x in range(5)]\n",
        "print(result)  # Output: ['even', 'odd', 'even', 'odd', 'even']"
      ]
    },
    {
      "cell_type": "code",
      "execution_count": null,
      "metadata": {
        "id": "6l2JHaGhXrq4"
      },
      "outputs": [],
      "source": [
        "matrix = [[i * j for j in range(1, 4)] for i in range(1, 4)]\n",
        "print(matrix)  # Output: [[1, 2, 3], [2, 4, 6], [3, 6, 9]]"
      ]
    },
    {
      "cell_type": "code",
      "execution_count": null,
      "metadata": {
        "colab": {
          "base_uri": "https://localhost:8080/"
        },
        "id": "AoN7ktC3XwqZ",
        "outputId": "3e9f8847-2bf9-4ba0-9802-69f6de0dbbda"
      },
      "outputs": [
        {
          "name": "stdout",
          "output_type": "stream",
          "text": [
            "['Alice', 'Bob', 'Charlie']\n"
          ]
        }
      ],
      "source": [
        "names = [\"alice\", \"bob\", \"ChARlie\"]\n",
        "capitalized = [name.title() for name in names]\n",
        "print(capitalized)  # Output: ['Alice', 'Bob', 'Charlie']"
      ]
    },
    {
      "cell_type": "code",
      "execution_count": null,
      "metadata": {
        "colab": {
          "base_uri": "https://localhost:8080/"
        },
        "id": "HUCgV7UHXwy2",
        "outputId": "6fc177ea-7680-4291-83a0-db6a23e577c5"
      },
      "outputs": [
        {
          "name": "stdout",
          "output_type": "stream",
          "text": [
            "2025-07-29 04:18:32.780291\n",
            "4\n",
            "good morning 😀\n"
          ]
        }
      ],
      "source": [
        "from datetime import datetime\n",
        "a=datetime.now()\n",
        "print(a)\n",
        "hour= datetime.now().hour\n",
        "print(hour)\n",
        "if hour<12:\n",
        "    print(\"good morning \\N{grinning face}\")\n",
        "elif hour<16:\n",
        "    print(\"good afternoon \\N{slightly smiling face}\")\n",
        "else:\n",
        "    print('This is a sad face: 😞')"
      ]
    },
    {
      "cell_type": "code",
      "execution_count": null,
      "metadata": {
        "colab": {
          "base_uri": "https://localhost:8080/"
        },
        "id": "NgfvhrTGZ2w-",
        "outputId": "46f6abb0-2426-43c9-8ee8-42d71733064e"
      },
      "outputs": [
        {
          "name": "stdout",
          "output_type": "stream",
          "text": [
            "2.0\n"
          ]
        }
      ],
      "source": [
        "ls= [1,2,3]\n",
        "total=sum(ls)\n",
        "ave= total/len(ls)\n",
        "print(ave)"
      ]
    },
    {
      "cell_type": "code",
      "execution_count": null,
      "metadata": {
        "colab": {
          "base_uri": "https://localhost:8080/"
        },
        "id": "Rd4Jx-3QXw1Y",
        "outputId": "8fd7228c-604a-4940-b051-196d40267df2"
      },
      "outputs": [
        {
          "name": "stdout",
          "output_type": "stream",
          "text": [
            "['sai', 'gupta', 'shilpa', 'baglore', 'chennai']\n"
          ]
        }
      ],
      "source": [
        "lst= ['sai', 'gupta', 'shilpa', 'hyd', 'baglore', 'chennai']\n",
        "ls=[]\n",
        "for x in lst:\n",
        "  if \"a\" in x:\n",
        "    ls.append(x)\n",
        "print(ls)"
      ]
    },
    {
      "cell_type": "code",
      "execution_count": null,
      "metadata": {
        "colab": {
          "base_uri": "https://localhost:8080/"
        },
        "id": "VmDWpD7ogVyC",
        "outputId": "6317b19d-de79-44c5-fb04-3f9e0c4b02c6"
      },
      "outputs": [
        {
          "name": "stdout",
          "output_type": "stream",
          "text": [
            "please enter the string::aaa rrrr ttttt yyyy uuu iii oo \n",
            "['aaa', 'rrrr', 'ttttt', 'yyyy', 'uuu', 'iii', 'oo']\n",
            "total words:: 7\n",
            "['aaa', 'uuu', 'iii']\n"
          ]
        }
      ],
      "source": [
        "data= input(\"please enter the string::\")\n",
        "words= data.split()\n",
        "print(words)\n",
        "print(\"total words::\", len(words))\n",
        "for word in words:\n",
        "  if 'a' in word or 'e' in word or 'i' in word or 'u' in word :\n",
        "    print(word)\n",
        "  else:\n",
        "    print(\"the word not contains vowels:: sorry!\")\n",
        "\n",
        "# result= [word for word in words if 'a' in word or 'e' in word or 'i' in word or 'u' in word]\n",
        "# print(result)"
      ]
    },
    {
      "cell_type": "code",
      "execution_count": null,
      "metadata": {
        "colab": {
          "base_uri": "https://localhost:8080/"
        },
        "id": "HnPdxSKJPO3V",
        "outputId": "9030cca8-e4d7-4c53-e3c8-57995539de69"
      },
      "outputs": [
        {
          "name": "stdout",
          "output_type": "stream",
          "text": [
            "Words with vowels: ['sai', 'hupya', 'ggus']\n",
            "Count: 3\n"
          ]
        }
      ],
      "source": [
        "vowels = 'aeiou'\n",
        "words_with_vowels = [word for word in words if any(ch in vowels for ch in word.lower())]\n",
        "count = len(words_with_vowels)\n",
        "\n",
        "print(\"Words with vowels:\", words_with_vowels)\n",
        "print(\"Count:\", count)\n"
      ]
    },
    {
      "cell_type": "code",
      "execution_count": null,
      "metadata": {
        "colab": {
          "base_uri": "https://localhost:8080/"
        },
        "id": "29iZUjqPkx2K",
        "outputId": "8e36eaf1-4e9b-48a0-9fcf-5a446850667d"
      },
      "outputs": [
        {
          "name": "stdout",
          "output_type": "stream",
          "text": [
            "234\n",
            "4456\n",
            "3214\n"
          ]
        }
      ],
      "source": [
        "lst= [234, 455, 4456, 665, 3214, 553]\n",
        "for x in lst:\n",
        "  if x%2 == 0:\n",
        "    print(x)"
      ]
    },
    {
      "cell_type": "code",
      "execution_count": null,
      "metadata": {
        "colab": {
          "base_uri": "https://localhost:8080/"
        },
        "id": "kmba_RgBPU-o",
        "outputId": "27605897-bb74-4c31-8a56-6971d50b473d"
      },
      "outputs": [
        {
          "name": "stdout",
          "output_type": "stream",
          "text": [
            "Words with vowels: ['sai', 'hupya', 'ggus']\n",
            "Count: 3\n"
          ]
        }
      ],
      "source": [
        "vowels = 'aeiou'\n",
        "words_with_vowels = [word for word in words if any(ch in vowels for ch in word.lower())]\n",
        "count = len(words_with_vowels)\n",
        "\n",
        "print(\"Words with vowels:\", words_with_vowels)\n",
        "print(\"Count:\", count)\n"
      ]
    },
    {
      "cell_type": "code",
      "execution_count": null,
      "metadata": {
        "colab": {
          "base_uri": "https://localhost:8080/"
        },
        "id": "aTTBDUINV2HM",
        "outputId": "eae213d4-77d2-403e-9427-792cf46f7bf9"
      },
      "outputs": [
        {
          "name": "stdout",
          "output_type": "stream",
          "text": [
            "[11, 32, 32, 24, 22]\n"
          ]
        }
      ],
      "source": [
        "a=[10,22,33,24,65,32,25,32,10,11]\n",
        "print(a[::-2])"
      ]
    },
    {
      "cell_type": "code",
      "execution_count": 27,
      "metadata": {
        "colab": {
          "base_uri": "https://localhost:8080/"
        },
        "id": "eJI86AK32WaA",
        "outputId": "e6f2ff60-a4ba-4b32-a284-5d2269e9fa4a"
      },
      "outputs": [
        {
          "output_type": "stream",
          "name": "stdout",
          "text": [
            "enter the list::1,2,3,4,5,67\n",
            "[1, 2, 3, 4, 5, 67]\n"
          ]
        }
      ],
      "source": [
        "a=list(eval(input(\"enter the list::\")))\n",
        "print(a)\n"
      ]
    },
    {
      "cell_type": "code",
      "execution_count": 26,
      "metadata": {
        "colab": {
          "base_uri": "https://localhost:8080/"
        },
        "id": "GbewseIqCKYe",
        "outputId": "fd9160bf-206d-498d-9464-b2472049e918"
      },
      "outputs": [
        {
          "output_type": "stream",
          "name": "stdout",
          "text": [
            "3\n",
            "6\n",
            "9\n",
            "12\n",
            "15\n",
            "18\n",
            "21\n",
            "24\n"
          ]
        }
      ],
      "source": [
        "a=[1,2,3,4,5,6,7,8]\n",
        "for x in a:\n",
        "  e=3*x\n",
        "  print(e,  sep= \"!\")"
      ]
    },
    {
      "cell_type": "code",
      "execution_count": 19,
      "metadata": {
        "colab": {
          "base_uri": "https://localhost:8080/"
        },
        "id": "r4r2DoX_NcyN",
        "outputId": "ad5ebfbb-d66c-48f5-d94a-a5d89be05117"
      },
      "outputs": [
        {
          "output_type": "stream",
          "name": "stdout",
          "text": [
            "['ax', 'ay', 'bx', 'by']\n"
          ]
        }
      ],
      "source": [
        "a= \"ab\"\n",
        "b= \"xy\"\n",
        "result= [i+j for i in a for j in b]\n",
        "print(result)"
      ]
    },
    {
      "cell_type": "code",
      "source": [
        "# strip() Method\n",
        "# Purpose: Removes leading and trailing whitespace (or specified characters) from a string.\n",
        "text = \"   Hello World!   \"\n",
        "stripped_text = text.strip()\n",
        "print(stripped_text)  # Output: \"Hello World!\"\n",
        "\n",
        "text = \"----Hello----\"\n",
        "stripped = text.strip(\"-\")\n",
        "print(stripped)  # Output: \"Hello\""
      ],
      "metadata": {
        "colab": {
          "base_uri": "https://localhost:8080/"
        },
        "id": "1MSAXJNukpl-",
        "outputId": "a5191932-b8b0-4d90-d89d-fee4c0559076"
      },
      "execution_count": 9,
      "outputs": [
        {
          "output_type": "stream",
          "name": "stdout",
          "text": [
            "Hello World!\n",
            "Hello\n"
          ]
        }
      ]
    },
    {
      "cell_type": "code",
      "source": [
        "# join() Method\n",
        "# Purpose: Joins elements of an iterable (like a list) into a single string, using a separator.\n",
        "words = [\"Deep\", \"Learning\", \"is\", \"fun\", \"23\"]\n",
        "sentence = \" \".join(words)\n",
        "print(sentence)  # Output: \"Deep Learning is fun\""
      ],
      "metadata": {
        "colab": {
          "base_uri": "https://localhost:8080/"
        },
        "id": "GVzNDvo2k1V9",
        "outputId": "76ac9e7a-24ec-4b4b-be46-b201cab67b39"
      },
      "execution_count": 13,
      "outputs": [
        {
          "output_type": "stream",
          "name": "stdout",
          "text": [
            "Deep Learning is fun 23\n"
          ]
        }
      ]
    },
    {
      "cell_type": "code",
      "source": [
        "chars = ['A', 'I']\n",
        "result = \"-\".join(chars)\n",
        "print(result)  # Output: \"A-I\"\n"
      ],
      "metadata": {
        "colab": {
          "base_uri": "https://localhost:8080/"
        },
        "id": "Fb9G8nl3lN3s",
        "outputId": "de38f54c-8b9d-465f-9933-292914923722"
      },
      "execution_count": 15,
      "outputs": [
        {
          "output_type": "stream",
          "name": "stdout",
          "text": [
            "A-I\n"
          ]
        }
      ]
    },
    {
      "cell_type": "code",
      "source": [
        "print(\"AI\", \"ML\", \"DL\", sep=\" | \")\n",
        "# Output: AI | ML | DL\n"
      ],
      "metadata": {
        "colab": {
          "base_uri": "https://localhost:8080/"
        },
        "id": "wetL9tngnHhf",
        "outputId": "7800db6a-e382-44f0-e651-ee1ebfc02cba"
      },
      "execution_count": 28,
      "outputs": [
        {
          "output_type": "stream",
          "name": "stdout",
          "text": [
            "AI | ML | DL\n"
          ]
        }
      ]
    },
    {
      "cell_type": "code",
      "source": [
        "a,b,c=\"sai\", 23, \"gupta\"\n",
        "print(a,b,c, sep= \"   !   \")\n"
      ],
      "metadata": {
        "colab": {
          "base_uri": "https://localhost:8080/"
        },
        "id": "bpvZf8nfnnEk",
        "outputId": "8650b863-f40d-4fe7-b6ce-4654577f1f17"
      },
      "execution_count": 31,
      "outputs": [
        {
          "output_type": "stream",
          "name": "stdout",
          "text": [
            "sai   !   23   !   gupta\n"
          ]
        }
      ]
    }
  ],
  "metadata": {
    "colab": {
      "provenance": [],
      "authorship_tag": "ABX9TyMxNMz5UHNREg6V2vLr3749",
      "include_colab_link": true
    },
    "kernelspec": {
      "display_name": "Python 3",
      "name": "python3"
    },
    "language_info": {
      "name": "python"
    }
  },
  "nbformat": 4,
  "nbformat_minor": 0
}