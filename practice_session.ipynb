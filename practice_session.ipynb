{
  "nbformat": 4,
  "nbformat_minor": 0,
  "metadata": {
    "colab": {
      "provenance": [],
      "authorship_tag": "ABX9TyOU2v50UckU1iDlDKf+d1pp",
      "include_colab_link": true
    },
    "kernelspec": {
      "name": "python3",
      "display_name": "Python 3"
    },
    "language_info": {
      "name": "python"
    }
  },
  "cells": [
    {
      "cell_type": "markdown",
      "metadata": {
        "id": "view-in-github",
        "colab_type": "text"
      },
      "source": [
        "<a href=\"https://colab.research.google.com/github/saigupta2025/PYTHON_NOTES/blob/main/practice_session.ipynb\" target=\"_parent\"><img src=\"https://colab.research.google.com/assets/colab-badge.svg\" alt=\"Open In Colab\"/></a>"
      ]
    },
    {
      "cell_type": "code",
      "source": [
        "lst = [1, 5, 9, 4, 9, 2, \"sai\", \"gupta\", \"ashish\"]\n",
        "numbers = sorted([item for item in lst if isinstance(item, int)])\n",
        "strings = sorted([item for item in lst if isinstance(item, str)])\n",
        "sorted_lst = numbers + strings\n",
        "print(sorted_lst)"
      ],
      "metadata": {
        "colab": {
          "base_uri": "https://localhost:8080/"
        },
        "id": "LFTQDeupR1Ll",
        "outputId": "f19b0e0e-26c5-4a53-d2c1-4049ee34ee4e"
      },
      "execution_count": null,
      "outputs": [
        {
          "output_type": "stream",
          "name": "stdout",
          "text": [
            "[1, 2, 4, 5, 9, 9, 'ashish', 'gupta', 'sai']\n"
          ]
        }
      ]
    },
    {
      "cell_type": "code",
      "source": [
        "lst=[2,4,6,2,1,4,99,6,5,6,4,33,65]\n",
        "lst.sort()\n",
        "print(lst)"
      ],
      "metadata": {
        "colab": {
          "base_uri": "https://localhost:8080/"
        },
        "id": "Hnky0mPrSkUn",
        "outputId": "ee60dab5-0571-4f76-cc3c-1080f734a9b7"
      },
      "execution_count": null,
      "outputs": [
        {
          "output_type": "stream",
          "name": "stdout",
          "text": [
            "[1, 2, 2, 4, 4, 4, 5, 6, 6, 6, 33, 65, 99]\n"
          ]
        }
      ]
    },
    {
      "cell_type": "markdown",
      "source": [
        "LIST COMPREHENSION:::\n",
        "\n",
        "syntax:\n",
        "\n",
        "newlist = [expression for item in iterable if condition == True]"
      ],
      "metadata": {
        "id": "sgB011GTc1dY"
      }
    },
    {
      "cell_type": "code",
      "source": [
        "result = [\"even\" if x % 2 == 0 else \"odd\" for x in range(5)]\n",
        "print(result)  # Output: ['even', 'odd', 'even', 'odd', 'even']"
      ],
      "metadata": {
        "id": "so5vmFefXoXm"
      },
      "execution_count": null,
      "outputs": []
    },
    {
      "cell_type": "code",
      "source": [
        "matrix = [[i * j for j in range(1, 4)] for i in range(1, 4)]\n",
        "print(matrix)  # Output: [[1, 2, 3], [2, 4, 6], [3, 6, 9]]"
      ],
      "metadata": {
        "id": "6l2JHaGhXrq4"
      },
      "execution_count": null,
      "outputs": []
    },
    {
      "cell_type": "code",
      "source": [
        "names = [\"alice\", \"bob\", \"charlie\"]\n",
        "capitalized = [name.capitalize() for name in names]\n",
        "print(capitalized)  # Output: ['Alice', 'Bob', 'Charlie']"
      ],
      "metadata": {
        "id": "AoN7ktC3XwqZ"
      },
      "execution_count": null,
      "outputs": []
    },
    {
      "cell_type": "code",
      "source": [
        "from datetime import datetime\n",
        "a=datetime.now()\n",
        "print(a)\n",
        "hour= datetime.now().hour\n",
        "print(hour)\n",
        "if hour<12:\n",
        "    print(\"good morning \\N{grinning face}\")\n",
        "elif hour<16:\n",
        "    print(\"good afternoon \\N{slightly smiling face}\")\n",
        "else:\n",
        "    print('This is a sad face: 😞')"
      ],
      "metadata": {
        "colab": {
          "base_uri": "https://localhost:8080/"
        },
        "id": "HUCgV7UHXwy2",
        "outputId": "6fc177ea-7680-4291-83a0-db6a23e577c5"
      },
      "execution_count": null,
      "outputs": [
        {
          "output_type": "stream",
          "name": "stdout",
          "text": [
            "2025-07-29 04:18:32.780291\n",
            "4\n",
            "good morning 😀\n"
          ]
        }
      ]
    },
    {
      "cell_type": "code",
      "source": [
        "ls= [1,2,3]\n",
        "total=sum(ls)\n",
        "ave= total/len(ls)\n",
        "print(ave)"
      ],
      "metadata": {
        "colab": {
          "base_uri": "https://localhost:8080/"
        },
        "id": "NgfvhrTGZ2w-",
        "outputId": "46f6abb0-2426-43c9-8ee8-42d71733064e"
      },
      "execution_count": null,
      "outputs": [
        {
          "output_type": "stream",
          "name": "stdout",
          "text": [
            "2.0\n"
          ]
        }
      ]
    },
    {
      "cell_type": "code",
      "source": [
        "lst= ['sai', 'gupta', 'shilpa', 'hyd', 'baglore', 'chennai']\n",
        "ls=[]\n",
        "for x in lst:\n",
        "  if \"a\" in x:\n",
        "    ls.append(x)\n",
        "print(ls)"
      ],
      "metadata": {
        "colab": {
          "base_uri": "https://localhost:8080/"
        },
        "id": "Rd4Jx-3QXw1Y",
        "outputId": "8fd7228c-604a-4940-b051-196d40267df2"
      },
      "execution_count": null,
      "outputs": [
        {
          "output_type": "stream",
          "name": "stdout",
          "text": [
            "['sai', 'gupta', 'shilpa', 'baglore', 'chennai']\n"
          ]
        }
      ]
    },
    {
      "cell_type": "code",
      "source": [
        "data= input(\"please enter the string::\")\n",
        "words= data.split()\n",
        "print(words)\n",
        "print(\"total words::\", len(words))\n",
        "for word in words:\n",
        "  if 'a' in word or 'e' in word or 'i' in word or 'u' in word :\n",
        "    print(word)\n",
        "  else:\n",
        "    print(\"the word not contains vowels:: sorry!\")"
      ],
      "metadata": {
        "colab": {
          "base_uri": "https://localhost:8080/"
        },
        "id": "VmDWpD7ogVyC",
        "outputId": "158bfba1-9d02-4bec-b10a-92e974103de2"
      },
      "execution_count": 75,
      "outputs": [
        {
          "output_type": "stream",
          "name": "stdout",
          "text": [
            "please enter the string::eeee rrrf  aaaa tttg sri dass\n",
            "['eeee', 'rrrf', 'aaaa', 'tttg', 'sri', 'dass']\n",
            "total words:: 6\n",
            "eeee\n",
            "the word not contains vowels:: sorry!\n",
            "aaaa\n",
            "the word not contains vowels:: sorry!\n",
            "sri\n",
            "dass\n"
          ]
        }
      ]
    },
    {
      "cell_type": "code",
      "source": [
        "vowels = 'aeiou'\n",
        "words_with_vowels = [word for word in words if any(ch in vowels for ch in word.lower())]\n",
        "count = len(words_with_vowels)\n",
        "\n",
        "print(\"Words with vowels:\", words_with_vowels)\n",
        "print(\"Count:\", count)\n"
      ],
      "metadata": {
        "colab": {
          "base_uri": "https://localhost:8080/"
        },
        "id": "HnPdxSKJPO3V",
        "outputId": "9030cca8-e4d7-4c53-e3c8-57995539de69"
      },
      "execution_count": 57,
      "outputs": [
        {
          "output_type": "stream",
          "name": "stdout",
          "text": [
            "Words with vowels: ['sai', 'hupya', 'ggus']\n",
            "Count: 3\n"
          ]
        }
      ]
    },
    {
      "cell_type": "code",
      "source": [
        "lst= [234, 455, 4456, 665, 3214, 553]\n",
        "for x in lst:\n",
        "  if x%2 == 0:\n",
        "    print(x)"
      ],
      "metadata": {
        "colab": {
          "base_uri": "https://localhost:8080/"
        },
        "id": "29iZUjqPkx2K",
        "outputId": "8e36eaf1-4e9b-48a0-9fcf-5a446850667d"
      },
      "execution_count": null,
      "outputs": [
        {
          "output_type": "stream",
          "name": "stdout",
          "text": [
            "234\n",
            "4456\n",
            "3214\n"
          ]
        }
      ]
    },
    {
      "cell_type": "code",
      "source": [
        "vowels = 'aeiou'\n",
        "words_with_vowels = [word for word in words if any(ch in vowels for ch in word.lower())]\n",
        "count = len(words_with_vowels)\n",
        "\n",
        "print(\"Words with vowels:\", words_with_vowels)\n",
        "print(\"Count:\", count)\n"
      ],
      "metadata": {
        "colab": {
          "base_uri": "https://localhost:8080/"
        },
        "id": "kmba_RgBPU-o",
        "outputId": "27605897-bb74-4c31-8a56-6971d50b473d"
      },
      "execution_count": 60,
      "outputs": [
        {
          "output_type": "stream",
          "name": "stdout",
          "text": [
            "Words with vowels: ['sai', 'hupya', 'ggus']\n",
            "Count: 3\n"
          ]
        }
      ]
    }
  ]
}